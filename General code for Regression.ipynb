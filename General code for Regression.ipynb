{
 "cells": [
  {
   "cell_type": "code",
   "execution_count": null,
   "id": "1920d462",
   "metadata": {},
   "outputs": [],
   "source": [
    "# Importing libraries and dataset"
   ]
  },
  {
   "cell_type": "code",
   "execution_count": null,
   "id": "8f4231cc",
   "metadata": {},
   "outputs": [],
   "source": [
    "import pandas as pd\n",
    "import numpy as np\n",
    "import seaborn as sns\n",
    "import matplotlib.pyplot as plt\n",
    "import warnings\n",
    "warnings.filterwarnings('ignore')\n",
    "\n",
    "from scipy import stats\n",
    "\n",
    "from sklearn.preprocessing import StandardScaler\n",
    "\n",
    "from sklearn.model_selection import train_test_split\n",
    "from sklearn.model_selection import cross_val_score, KFold\n",
    "\n",
    "from sklearn.metrics import mean_squared_error,mean_absolute_error,r2_score\n",
    "\n",
    "from sklearn.linear_model import LinearRegression, Ridge, Lasso, ElasticNet, RidgeCV, LassoCV, ElasticNetCV, SGDRegressor\n",
    "\n",
    "from sklearn.tree import DecisionTreeRegressor\n",
    "from sklearn.ensemble import RandomForestRegressor\n",
    "from sklearn.svm import SVR\n",
    "from sklearn.neighbors import KNeighborsRegressor\n",
    "from xgboost import XGBRegressor\n",
    "from sklearn.preprocessing import PolynomialFeatures"
   ]
  },
  {
   "cell_type": "code",
   "execution_count": null,
   "id": "4c19f7d9",
   "metadata": {},
   "outputs": [],
   "source": [
    "#Read/Importing data\n",
    "df= pd.read_csv(r'FILENAME.csv')"
   ]
  },
  {
   "cell_type": "code",
   "execution_count": null,
   "id": "f74ed5cc",
   "metadata": {},
   "outputs": [],
   "source": [
    "#To Display all the rows and columns of table\n",
    "pd.set_option('display.max_columns',None)\n",
    "pd.set_option('display.max_rows',None) "
   ]
  },
  {
   "cell_type": "code",
   "execution_count": null,
   "id": "a15fc307",
   "metadata": {},
   "outputs": [],
   "source": [
    "#Keeping copy of file for future \n",
    "df1= df.copy()"
   ]
  },
  {
   "cell_type": "code",
   "execution_count": null,
   "id": "222dc509",
   "metadata": {},
   "outputs": [],
   "source": [
    "## Data Cleaning and Preprocessing"
   ]
  },
  {
   "cell_type": "code",
   "execution_count": null,
   "id": "6c49d72d",
   "metadata": {},
   "outputs": [],
   "source": [
    "#To display top 5 rows of the table\n",
    "df.head()"
   ]
  },
  {
   "cell_type": "code",
   "execution_count": null,
   "id": "e98b2afc",
   "metadata": {},
   "outputs": [],
   "source": [
    "#To display number of rows and columns\n",
    "df.shape"
   ]
  },
  {
   "cell_type": "code",
   "execution_count": null,
   "id": "e2f812f2",
   "metadata": {},
   "outputs": [],
   "source": [
    "#To display columns, data types, non-null values\n",
    "df.info()"
   ]
  },
  {
   "cell_type": "code",
   "execution_count": null,
   "id": "5ceb3218",
   "metadata": {},
   "outputs": [],
   "source": [
    "#To display data types of columns\n",
    "df.dtypes"
   ]
  },
  {
   "cell_type": "code",
   "execution_count": null,
   "id": "c893f797",
   "metadata": {},
   "outputs": [],
   "source": [
    "#To display list of columns\n",
    "df.columns"
   ]
  },
  {
   "cell_type": "code",
   "execution_count": null,
   "id": "8ec8db78",
   "metadata": {},
   "outputs": [],
   "source": [
    "#To display number of missing values and treat them\n",
    "df.isnull().sum()"
   ]
  },
  {
   "cell_type": "code",
   "execution_count": null,
   "id": "5ff07001",
   "metadata": {},
   "outputs": [],
   "source": [
    "#To check missing values in percentage\n",
    "(df.isnull().sum()*100/df.isnull().count()).sort_values(ascending = False)"
   ]
  },
  {
   "cell_type": "code",
   "execution_count": null,
   "id": "0d2eb1ee",
   "metadata": {},
   "outputs": [],
   "source": [
    "#To visualise null values\n",
    "sns.heatmap(df.isnull(), cbar=False)\n",
    "plt.show()"
   ]
  },
  {
   "cell_type": "code",
   "execution_count": null,
   "id": "4148f202",
   "metadata": {},
   "outputs": [],
   "source": [
    "#Droping rows with less missing values\n",
    "df.dropna(axis=0, inplace=True)"
   ]
  },
  {
   "cell_type": "code",
   "execution_count": null,
   "id": "ef056417",
   "metadata": {},
   "outputs": [],
   "source": [
    "#Dropping columns with many missing values\n",
    "df.drop(['Column1','Column2','Column3'], axis=1, inplace=True)"
   ]
  },
  {
   "cell_type": "code",
   "execution_count": null,
   "id": "7340c2e5",
   "metadata": {},
   "outputs": [],
   "source": [
    "#To replace with specific values in one column.\n",
    "df['column_name'].fillna(value, inplace=True)"
   ]
  },
  {
   "cell_type": "code",
   "execution_count": null,
   "id": "5d2e57ac",
   "metadata": {},
   "outputs": [],
   "source": [
    "#To replace missing values in one column with mean, median or mode.\n",
    "data['column_name'].fillna(data['column_name'].mean(), inplace=True)"
   ]
  },
  {
   "cell_type": "code",
   "execution_count": null,
   "id": "5c123035",
   "metadata": {},
   "outputs": [],
   "source": [
    "#To display number of duplicate values\n",
    "df.duplicated().sum()"
   ]
  },
  {
   "cell_type": "code",
   "execution_count": null,
   "id": "a6df073a",
   "metadata": {},
   "outputs": [],
   "source": [
    "df.drop_duplicates(inplace=True)"
   ]
  },
  {
   "cell_type": "code",
   "execution_count": null,
   "id": "d42d22c2",
   "metadata": {},
   "outputs": [],
   "source": [
    "#To display columns that are numeric and categorical\n",
    "cat_cols = df.dtypes[df.dtypes=='object'].index\n",
    "num_cols = df.dtypes[df.dtypes!='object'].index\n",
    "print(cat_cols)\n",
    "print(num_cols)"
   ]
  },
  {
   "cell_type": "code",
   "execution_count": null,
   "id": "bbfcf3c2",
   "metadata": {},
   "outputs": [],
   "source": [
    "#To display values and its count for categorical columns\n",
    "for i in cat_cols:\n",
    "    print(f'Feature {i}')\n",
    "    print(f'Unique Values - {df[i].nunique()}')\n",
    "    print(f'Value Counts\\n{df[i].value_counts()}')\n",
    "    print('-'*40)"
   ]
  },
  {
   "cell_type": "code",
   "execution_count": null,
   "id": "9a8975dc",
   "metadata": {},
   "outputs": [],
   "source": [
    "#### Other basic functions"
   ]
  },
  {
   "cell_type": "code",
   "execution_count": null,
   "id": "75695add",
   "metadata": {},
   "outputs": [],
   "source": [
    "# Change data type to int or float\n",
    "df['column_name'] = df['column_name'].astype(int/float)"
   ]
  },
  {
   "cell_type": "code",
   "execution_count": null,
   "id": "39039bba",
   "metadata": {},
   "outputs": [],
   "source": [
    "# Text based data\n",
    "\n",
    "# remove spaces from start or end of the values.\n",
    "df['column_name'] = df['column_name'].str.strip()\n",
    "\n",
    "# Convert text to lowercase\n",
    "df['column_name'] = df['column_name'].str.lower()\n",
    "\n",
    "# Remove special characters from text\n",
    "df['column_name'] = df['column_name'].str.replace('[^\\w\\s]', '')\n",
    "\n",
    "# Tokenize text into words\n",
    "df['column_name'] = df['column_name'].str.split()"
   ]
  },
  {
   "cell_type": "code",
   "execution_count": null,
   "id": "9a15005f",
   "metadata": {},
   "outputs": [],
   "source": [
    "# Date time data\n",
    "\n",
    "# Convert string column to datetime format\n",
    "df['date_column'] = pd.to_datetime(df['date_column'])\n",
    "\n",
    "# Extract year from a datetime column\n",
    "df['year'] = df['date_column'].dt.year\n",
    "\n",
    "# Extract month from a datetime column\n",
    "df['month'] = df['date_column'].dt.month\n",
    "\n",
    "# Extract day from a datetime column\n",
    "df['day'] = df['date_column'].dt.day\n",
    "\n",
    "# Calculate time differences\n",
    "df['time_diff'] = df['end_time'] - df['start_time']"
   ]
  },
  {
   "cell_type": "code",
   "execution_count": null,
   "id": "defb90c8",
   "metadata": {},
   "outputs": [],
   "source": [
    "#To rename column name\n",
    "df.rename(columns={'Old_Column_Name':'New_Column_Name'},inplace=True) \n",
    "\n",
    "# To replace specific values in a column\n",
    "df['column_name'].replace({'old_value': 'new_value'}, inplace=True)"
   ]
  },
  {
   "cell_type": "code",
   "execution_count": null,
   "id": "fef62a26",
   "metadata": {},
   "outputs": [],
   "source": [
    "#To remove a column from dataframe\n",
    "df.drop('name',axis=1,inplace=True)"
   ]
  },
  {
   "cell_type": "code",
   "execution_count": null,
   "id": "31a48f4f",
   "metadata": {},
   "outputs": [],
   "source": [
    "## EDA - Exploratory Data Analysis"
   ]
  },
  {
   "cell_type": "code",
   "execution_count": null,
   "id": "c058f158",
   "metadata": {},
   "outputs": [],
   "source": [
    "#To display countplot of target variable\n",
    "sns.countplot(x=df['target'])\n",
    "plt.title('Countplot for Target')\n",
    "plt.show()"
   ]
  },
  {
   "cell_type": "code",
   "execution_count": null,
   "id": "f5a08724",
   "metadata": {},
   "outputs": [],
   "source": [
    "#To display basic statistical values for numeric columns\n",
    "df.describe()"
   ]
  },
  {
   "cell_type": "code",
   "execution_count": null,
   "id": "14be2726",
   "metadata": {},
   "outputs": [],
   "source": [
    "# Plot graph between column_name and Dependent variable\n",
    "df.groupby(\"column_name\").mean()[\"Dependent_column\"].plot(kind='bar')\n",
    "plt.title(\"City column_name and Dependent_column Analysis\")\n",
    "plt.show()"
   ]
  },
  {
   "cell_type": "code",
   "execution_count": null,
   "id": "5bd8f88d",
   "metadata": {},
   "outputs": [],
   "source": [
    "# Distribution of column\n",
    "sns.countplot(df['Column_Name'])\n",
    "plt.title('Distribution of Column_Name')\n",
    "plt.xlabel('Column_Name')\n",
    "plt.savefig('Name1.png')\n",
    "plt.show()"
   ]
  },
  {
   "cell_type": "code",
   "execution_count": null,
   "id": "674f946e",
   "metadata": {},
   "outputs": [],
   "source": [
    "# Distribution of column with respect to target variable\n",
    "sns.countplot(x=df['Column_Name'],hue=df['Target_Column'])\n",
    "plt.title(f'Countplot for Column_Name wrt Target_Column')\n",
    "plt.savefig('Name2.png')\n",
    "plt.show()"
   ]
  },
  {
   "cell_type": "code",
   "execution_count": null,
   "id": "ca68a4fd",
   "metadata": {},
   "outputs": [],
   "source": [
    "#To display histogram for all numeric columns\n",
    "for i in num_cols:\n",
    "    sns.histplot(x=df[i])\n",
    "    plt.title(f'Boxplot for {i}')\n",
    "    plt.show()"
   ]
  },
  {
   "cell_type": "code",
   "execution_count": null,
   "id": "d18b53fc",
   "metadata": {},
   "outputs": [],
   "source": [
    "##To display count plot for all categorical columns\n",
    "for i in cat_cols:\n",
    "    sns.countplot(x=df[i])\n",
    "    plt.title(f'Countplot for {i}')\n",
    "    plt.show()"
   ]
  },
  {
   "cell_type": "code",
   "execution_count": null,
   "id": "3024d9bb",
   "metadata": {},
   "outputs": [],
   "source": [
    "#To display pie chart for all categorical columns\n",
    "for i in cat_cols:\n",
    "    count = df[i].value_counts()\n",
    "    labels = count.index.tolist()\n",
    "    sizes = count.values.tolist()\n",
    "    plt.figure()\n",
    "    plt.pie(sizes, labels=labels, autopct='%1.1f%%')\n",
    "    plt.title(f'Pie chart for {i}')\n",
    "    plt.show()"
   ]
  },
  {
   "cell_type": "code",
   "execution_count": null,
   "id": "919b66b4",
   "metadata": {},
   "outputs": [],
   "source": [
    "#To display box plot between numeric and categorical columns\n",
    "for i in cat_cols:\n",
    "    sns.boxplot(x=df[i],y=df['Dependent_column'])\n",
    "    plt.title(f'Boxplot of {i} VS Dependent_column')\n",
    "    plt.show()"
   ]
  },
  {
   "cell_type": "code",
   "execution_count": null,
   "id": "63c7c785",
   "metadata": {},
   "outputs": [],
   "source": [
    "# Scatter plot of two numeric columns\n",
    "plt.scatter(df['numeric_column1'], df['numeric_column2'])\n",
    "plt.xlabel('Numeric Column 1')\n",
    "plt.ylabel('Numeric Column 2')\n",
    "plt.show()"
   ]
  },
  {
   "cell_type": "code",
   "execution_count": null,
   "id": "834ca8bf",
   "metadata": {},
   "outputs": [],
   "source": [
    "# Cross-tabulation between two categorical columns\n",
    "cross_tab = pd.crosstab(df['categorical_column1'], df['categorical_column2'])\n",
    "print(cross_tab)"
   ]
  },
  {
   "cell_type": "code",
   "execution_count": null,
   "id": "a212e60c",
   "metadata": {},
   "outputs": [],
   "source": [
    "# Pair plot\n",
    "sns.pairplot(data=df)\n",
    "plt.show()"
   ]
  },
  {
   "cell_type": "code",
   "execution_count": null,
   "id": "034b20b9",
   "metadata": {},
   "outputs": [],
   "source": [
    "# Distplot\n",
    "\n",
    "sns.distplot(df['Column_name'])\n",
    "plt.show()\n",
    "\n",
    "# Distplot with log\n",
    "sns.distplot(np.log(df['Column_name']))\n",
    "plt.show()"
   ]
  },
  {
   "cell_type": "code",
   "execution_count": null,
   "id": "3e8472ec",
   "metadata": {},
   "outputs": [],
   "source": [
    "#Multi-variate Analysis"
   ]
  },
  {
   "cell_type": "code",
   "execution_count": null,
   "id": "c74bcef6",
   "metadata": {},
   "outputs": [],
   "source": [
    "#To display correlation between different columns\n",
    "corr = df.corr()\n",
    "plt.figure(figsize=(25,25))\n",
    "sns.heatmap(corr, annot=True, cmap='RdBu')\n",
    "plt.show()"
   ]
  },
  {
   "cell_type": "code",
   "execution_count": null,
   "id": "a6e58e74",
   "metadata": {},
   "outputs": [],
   "source": [
    "# Outlier Treatment"
   ]
  },
  {
   "cell_type": "code",
   "execution_count": null,
   "id": "ffcde81c",
   "metadata": {},
   "outputs": [],
   "source": [
    "# Remove rows based on a condition\n",
    "df = df[df['column_name'] != 'value_to_remove']"
   ]
  },
  {
   "cell_type": "code",
   "execution_count": null,
   "id": "9e99a3f4",
   "metadata": {},
   "outputs": [],
   "source": [
    "# Remove outliers based on domain knowledge or business rules\n",
    "df = df[(df['column_name'] >= lower_threshold) & (df['column_name'] <= upper_threshold)]"
   ]
  },
  {
   "cell_type": "code",
   "execution_count": null,
   "id": "9c2611a7",
   "metadata": {},
   "outputs": [],
   "source": [
    "df.describe(percentiles=[0.01,0.03,0.05,0.10,0.90,0.95,0.97,0.99]).T"
   ]
  },
  {
   "cell_type": "code",
   "execution_count": null,
   "id": "0da20e17",
   "metadata": {},
   "outputs": [],
   "source": [
    "def out_treat(x):\n",
    "    x = x.clip(upper = x.quantile(0.97))\n",
    "    x = x.clip(lower = x.quantile(0.01))\n",
    "    return x"
   ]
  },
  {
   "cell_type": "code",
   "execution_count": null,
   "id": "e2c5973d",
   "metadata": {},
   "outputs": [],
   "source": [
    "num_cols = df.dtypes[df.dtypes!='object'].index\n",
    "df[num_cols] = df[num_cols].apply(out_treat)"
   ]
  },
  {
   "cell_type": "code",
   "execution_count": null,
   "id": "8cb52b74",
   "metadata": {},
   "outputs": [],
   "source": [
    "# Encoding categorical Columns"
   ]
  },
  {
   "cell_type": "code",
   "execution_count": null,
   "id": "70cbe4b0",
   "metadata": {},
   "outputs": [],
   "source": [
    "df = pd.get_dummies(df,columns=cat_cols,drop_first=True)\n",
    "print(df.shape)\n",
    "print(df.dtypes)"
   ]
  },
  {
   "cell_type": "code",
   "execution_count": null,
   "id": "6f692980",
   "metadata": {},
   "outputs": [],
   "source": [
    "#### Label Encoding"
   ]
  },
  {
   "cell_type": "code",
   "execution_count": null,
   "id": "42f02a86",
   "metadata": {},
   "outputs": [],
   "source": [
    "from sklearn.preprocessing import LabelEncoder\n",
    "lb = LabelEncoder()"
   ]
  },
  {
   "cell_type": "code",
   "execution_count": null,
   "id": "b14020f7",
   "metadata": {},
   "outputs": [],
   "source": [
    "cat_cols = df.dtypes[df.dtypes=='object'].index\n",
    "print(cat_cols)"
   ]
  },
  {
   "cell_type": "code",
   "execution_count": null,
   "id": "8403e715",
   "metadata": {},
   "outputs": [],
   "source": [
    "for i in cat_cols:\n",
    "    df[i] = lb.fit_transform(df[i])"
   ]
  },
  {
   "cell_type": "code",
   "execution_count": null,
   "id": "dfddaadd",
   "metadata": {},
   "outputs": [],
   "source": [
    "# Get Dummies - OneHotEncoding"
   ]
  },
  {
   "cell_type": "code",
   "execution_count": null,
   "id": "13b289ef",
   "metadata": {},
   "outputs": [],
   "source": [
    "df.Column_name = df.Column_name.replace({'Column_values1':'1', 'Column_values2':'2'})"
   ]
  },
  {
   "cell_type": "code",
   "execution_count": null,
   "id": "06c40b8f",
   "metadata": {},
   "outputs": [],
   "source": [
    "df = pd.get_dummies(df, columns = ['Column_name'],prefix = 'Column_c')"
   ]
  },
  {
   "cell_type": "code",
   "execution_count": null,
   "id": "17fb1d86",
   "metadata": {},
   "outputs": [],
   "source": [
    "from sklearn.preprocessing import OneHotEncoder"
   ]
  },
  {
   "cell_type": "code",
   "execution_count": null,
   "id": "4112d37a",
   "metadata": {},
   "outputs": [],
   "source": [
    "ohe = OneHotEncoder()\n",
    "res_ohe = ohe.fit_transform(df[['Column_Name']]).toarray()\n",
    "res_ohe_df = pd.DataFrame(res_ohe,columns=['Column_values1','Column_values2'])\n",
    "res_ohe_df.head()"
   ]
  },
  {
   "cell_type": "code",
   "execution_count": null,
   "id": "a149b312",
   "metadata": {},
   "outputs": [],
   "source": [
    "#Select the Dependent and Independent Features\n",
    "x = x_resampled\n",
    "y = y_resampled\n",
    "print(type(x),type(y))\n",
    "print(x.shape,y.shape)"
   ]
  },
  {
   "cell_type": "code",
   "execution_count": null,
   "id": "ec423eea",
   "metadata": {},
   "outputs": [],
   "source": [
    "# Model building"
   ]
  },
  {
   "cell_type": "code",
   "execution_count": null,
   "id": "e76acd4e",
   "metadata": {},
   "outputs": [],
   "source": [
    "# Creating Function to evalute the model performance"
   ]
  },
  {
   "cell_type": "code",
   "execution_count": null,
   "id": "27bee052",
   "metadata": {},
   "outputs": [],
   "source": [
    "def eval_model(model,x_train,x_test,y_train,y_test):\n",
    "    global train_score, test_score, mae, mse, rmse, r2, ypred\n",
    "\n",
    "    model.fit(x_train,y_train)\n",
    "    train_score = round(model.score(x_train,y_train),2)\n",
    "    test_score = round(model.score(x_test,y_test),2)\n",
    "    y_pred = model.predict(x_test)\n",
    "\n",
    "    mae = round(mean_absolute_error(y_test,y_pred),2)\n",
    "    mse = round(mean_squared_error(y_test,y_pred),2)\n",
    "    rmse = round(np.sqrt(mse),2)\n",
    "    r2 = round(r2_score(y_test,y_pred),2)\n",
    "\n",
    "    print(\"Evaluation Metrics:\")\n",
    "    print(f\"Mean Absolute Error (MAE): {mae}\")\n",
    "    print(f\"Mean Squared Error (MSE): {mse}\")\n",
    "    print(f\"Root Mean Squared Error (RMSE): {rmse}\")\n",
    "    print(f\"R-squared (R²) Score: {r2}\")\n",
    "    \n",
    "    print(f\"Training Score: {train_score}\")\n",
    "    print(f\"Testing Score: {test_score}\")\n"
   ]
  },
  {
   "cell_type": "code",
   "execution_count": null,
   "id": "dfc66815",
   "metadata": {},
   "outputs": [],
   "source": [
    "score_card = pd.DataFrame(columns=['Model', 'Train Score', 'Test Score', 'Mean Absolute Error (MAE)' , 'Mean Squared Error (MSE)', \n",
    "                                   'Root Mean Squared Error (RMSE)', 'R-squared Score'])\n",
    "\n",
    "def update_score_card(model_name):\n",
    "    global score_card\n",
    "    score_card = score_card.append({'Model': model_name, 'Train Score': train_score, 'Test Score': test_score,\n",
    "                                     'Mean Absolute Error (MAE)' : mae, 'Mean Squared Error (MSE)': mse, \n",
    "                                    'Root Mean Squared Error (RMSE)': rmse, 'R-squared Score': r2}, ignore_index = True)\n",
    "    return(score_card)"
   ]
  },
  {
   "cell_type": "code",
   "execution_count": null,
   "id": "6d932f7c",
   "metadata": {},
   "outputs": [],
   "source": [
    "#Select the Dependent and Independent Features\n",
    "x = df.drop('Dependent_column',axis=1)\n",
    "y = df['Dependent_column']\n",
    "print(type(x),type(y))\n",
    "print(x.shape,y.shape)"
   ]
  },
  {
   "cell_type": "code",
   "execution_count": null,
   "id": "60f3bb4f",
   "metadata": {},
   "outputs": [],
   "source": [
    "#Split the data into train and test set\n",
    "x_train,x_test,y_train,y_test = train_test_split(x,y,test_size=0.30,random_state=1000)\n",
    "print(x_train.shape)\n",
    "print(x_test.shape)\n",
    "print(y_train.shape)\n",
    "print(y_test.shape)"
   ]
  },
  {
   "cell_type": "code",
   "execution_count": null,
   "id": "f3f1223c",
   "metadata": {},
   "outputs": [],
   "source": [
    "# Linear regression"
   ]
  },
  {
   "cell_type": "code",
   "execution_count": null,
   "id": "482cdd74",
   "metadata": {},
   "outputs": [],
   "source": [
    "lr = LinearRegression()\n",
    "eval_model(lr,x_train,x_test,y_train,y_test)"
   ]
  },
  {
   "cell_type": "code",
   "execution_count": null,
   "id": "036d7f33",
   "metadata": {},
   "outputs": [],
   "source": [
    "update_score_card(model_name = 'Linear Regression')"
   ]
  },
  {
   "cell_type": "code",
   "execution_count": null,
   "id": "97b2cc8b",
   "metadata": {},
   "outputs": [],
   "source": [
    "# Cross validation of linear regression\n",
    "model_lr  = LinearRegression()\n",
    "cv_res = cross_val_score(model_lr,x,y,scoring='r2',cv=5)  # cv = number of splits\n",
    "print(cv_res)  # we will get 5 different R2 scores for 5 differnet splits\n",
    "print(cv_res.mean())"
   ]
  },
  {
   "cell_type": "code",
   "execution_count": null,
   "id": "55e366bd",
   "metadata": {},
   "outputs": [],
   "source": [
    "# SGDRegressor\n",
    "sgd1 = SGDRegressor(max_iter=10000,eta0=0.0001,loss='squared_error')\n",
    "eval_model(sgd1,x_train,x_test,y_train,y_test)"
   ]
  },
  {
   "cell_type": "code",
   "execution_count": null,
   "id": "47a07079",
   "metadata": {},
   "outputs": [],
   "source": [
    "update_score_card(model_name = 'SGD Regression')"
   ]
  },
  {
   "cell_type": "code",
   "execution_count": null,
   "id": "879ce836",
   "metadata": {},
   "outputs": [],
   "source": [
    "# Ridge Regression\n",
    "ridge1 = Ridge(alpha=1)\n",
    "eval_model(ridge1,x_train,x_test,y_train,y_test)"
   ]
  },
  {
   "cell_type": "code",
   "execution_count": null,
   "id": "d6957a54",
   "metadata": {},
   "outputs": [],
   "source": [
    "update_score_card(model_name = 'Ridge Regression')"
   ]
  },
  {
   "cell_type": "code",
   "execution_count": null,
   "id": "7416d426",
   "metadata": {},
   "outputs": [],
   "source": [
    "# RidgeCV Regression\n",
    "ridge2 = RidgeCV(alphas=np.arange(0.1,1,0.01), cv=20,scoring='neg_mean_squared_error')\n",
    "eval_model(ridge2,x_train,x_test,y_train,y_test)"
   ]
  },
  {
   "cell_type": "code",
   "execution_count": null,
   "id": "c38d8d75",
   "metadata": {},
   "outputs": [],
   "source": [
    "update_score_card(model_name = 'RidgeCV Regression')"
   ]
  },
  {
   "cell_type": "code",
   "execution_count": null,
   "id": "3732add4",
   "metadata": {},
   "outputs": [],
   "source": [
    "# Lasso Regression\n",
    "lasso1 = Lasso(alpha=1)\n",
    "eval_model(lasso1,x_train,x_test,y_train,y_test)"
   ]
  },
  {
   "cell_type": "code",
   "execution_count": null,
   "id": "ad3b0430",
   "metadata": {},
   "outputs": [],
   "source": [
    "update_score_card(model_name = 'Lasso Regression')"
   ]
  },
  {
   "cell_type": "code",
   "execution_count": null,
   "id": "9f894139",
   "metadata": {},
   "outputs": [],
   "source": [
    "# LassoCV Regression\n",
    "lasso2 = LassoCV(alphas=np.arange(0.1,1,0.01),cv=20)\n",
    "eval_model(lasso2,x_train,x_test,y_train,y_test)"
   ]
  },
  {
   "cell_type": "code",
   "execution_count": null,
   "id": "5d49f32e",
   "metadata": {},
   "outputs": [],
   "source": [
    "update_score_card(model_name = 'LassoCV Regression')"
   ]
  },
  {
   "cell_type": "code",
   "execution_count": null,
   "id": "4bce6f0e",
   "metadata": {},
   "outputs": [],
   "source": [
    "# ElasticNet Regression\n",
    "enet1 = ElasticNet(alpha=1)\n",
    "eval_model(enet1,x_train,x_test,y_train,y_test)"
   ]
  },
  {
   "cell_type": "code",
   "execution_count": null,
   "id": "9370e1a6",
   "metadata": {},
   "outputs": [],
   "source": [
    "update_score_card(model_name = 'ElasiticNet Regression')"
   ]
  },
  {
   "cell_type": "code",
   "execution_count": null,
   "id": "9eaa4de8",
   "metadata": {},
   "outputs": [],
   "source": [
    "# ElasticNetCV Regression\n",
    "enet2 = ElasticNetCV(alphas=np.arange(0.1,1,0.01),cv=20)\n",
    "eval_model(enet2,x_train,x_test,y_train,y_test)"
   ]
  },
  {
   "cell_type": "code",
   "execution_count": null,
   "id": "e934a14f",
   "metadata": {},
   "outputs": [],
   "source": [
    "update_score_card(model_name = 'ElasticNetCV Regression')"
   ]
  },
  {
   "cell_type": "code",
   "execution_count": null,
   "id": "7c2b70d4",
   "metadata": {},
   "outputs": [],
   "source": [
    "from sklearn.tree import DecisionTreeRegressor\n",
    "from sklearn.ensemble import RandomForestRegressor\n",
    "from sklearn.svm import SVR\n",
    "from sklearn.neighbors import KNeighborsRegressor"
   ]
  },
  {
   "cell_type": "code",
   "execution_count": null,
   "id": "d9db096a",
   "metadata": {},
   "outputs": [],
   "source": [
    "# DecisionTree Regression  #criterion='squared_error', max_depth=N, min_samples_split=N\n",
    "dt = DecisionTreeRegressor(criterion='squared_error')\n",
    "eval_model(dt,x_train,x_test,y_train,y_test)"
   ]
  },
  {
   "cell_type": "code",
   "execution_count": null,
   "id": "1fe88ef3",
   "metadata": {},
   "outputs": [],
   "source": [
    "update_score_card(model_name = 'Decision Tree Regression')"
   ]
  },
  {
   "cell_type": "code",
   "execution_count": null,
   "id": "301d2f82",
   "metadata": {},
   "outputs": [],
   "source": [
    "# Random Forest Regression  # max_depth=N, max_leaf_nodes=N, min_samples_leaf=N, min_samples_split=N, n_estimators=N\n",
    "rf = RandomForestRegressor(n_estimators=N, random_state=10)  \n",
    "eval_model(rf,x_train,x_test,y_train,y_test)"
   ]
  },
  {
   "cell_type": "code",
   "execution_count": null,
   "id": "48ef6b38",
   "metadata": {},
   "outputs": [],
   "source": [
    "update_score_card(model_name = 'Random Forest Regression')"
   ]
  },
  {
   "cell_type": "code",
   "execution_count": null,
   "id": "2a5e2f1c",
   "metadata": {},
   "outputs": [],
   "source": [
    "# Support Vector Regression  # kernel='poly', C=N, degree=N, gamma='scale/auto'\n",
    "sv = SVR()\n",
    "eval_model(sv,x_train,x_test,y_train,y_test)"
   ]
  },
  {
   "cell_type": "code",
   "execution_count": null,
   "id": "f709e859",
   "metadata": {},
   "outputs": [],
   "source": [
    "update_score_card(model_name = 'Support Vector Regression')"
   ]
  },
  {
   "cell_type": "code",
   "execution_count": null,
   "id": "d151580a",
   "metadata": {},
   "outputs": [],
   "source": [
    "# KNN Regression\n",
    "knr = KNeighborsRegressor(n_neighbors=N)\n",
    "eval_model(knr,x_train,x_test,y_train,y_test)"
   ]
  },
  {
   "cell_type": "code",
   "execution_count": null,
   "id": "a93ed8be",
   "metadata": {},
   "outputs": [],
   "source": [
    "update_score_card(model_name = 'KNN Regression')"
   ]
  },
  {
   "cell_type": "code",
   "execution_count": null,
   "id": "b0f0df99",
   "metadata": {},
   "outputs": [],
   "source": [
    "# XGBoost Regressor\n",
    "xgb = XGBRegressor(objective ='reg:linear', n_estimators = 10, seed = 123)\n",
    "eval_model(rf,x_train,x_test,y_train,y_test)"
   ]
  },
  {
   "cell_type": "code",
   "execution_count": null,
   "id": "1b2bcd1e",
   "metadata": {},
   "outputs": [],
   "source": [
    "update_score_card(model_name = 'XGBoost Regression')"
   ]
  },
  {
   "cell_type": "code",
   "execution_count": null,
   "id": "0dd84517",
   "metadata": {},
   "outputs": [],
   "source": [
    "poly = PolynomialFeatures(degree=3)\n",
    "eval_model(rf,x_train,x_test,y_train,y_test)"
   ]
  },
  {
   "cell_type": "code",
   "execution_count": null,
   "id": "48e99713",
   "metadata": {},
   "outputs": [],
   "source": [
    "update_score_card(model_name = 'Polynomial Regression')"
   ]
  },
  {
   "cell_type": "code",
   "execution_count": null,
   "id": "177db6d2",
   "metadata": {},
   "outputs": [],
   "source": [
    "# Model Comparision"
   ]
  },
  {
   "cell_type": "code",
   "execution_count": null,
   "id": "65d6dcce",
   "metadata": {},
   "outputs": [],
   "source": [
    "score_card"
   ]
  },
  {
   "cell_type": "code",
   "execution_count": null,
   "id": "b4662bbf",
   "metadata": {},
   "outputs": [],
   "source": [
    "score_card['Test Score'].idxmax()"
   ]
  },
  {
   "cell_type": "code",
   "execution_count": null,
   "id": "68ff6d17",
   "metadata": {},
   "outputs": [],
   "source": [
    "print (score_card['Model'][score_card['Test Score'].idxmax()], \"is the best performing model\")"
   ]
  },
  {
   "cell_type": "code",
   "execution_count": null,
   "id": "1f9df929",
   "metadata": {},
   "outputs": [],
   "source": [
    "# Saving the Model\n",
    "import pickle\n",
    "pickle.dump(lr/dt1/rf/knn1/sv1,open('Final model.pkl','wb'))  # select alias of best fit model"
   ]
  }
 ],
 "metadata": {
  "kernelspec": {
   "display_name": "Python 3 (ipykernel)",
   "language": "python",
   "name": "python3"
  },
  "language_info": {
   "codemirror_mode": {
    "name": "ipython",
    "version": 3
   },
   "file_extension": ".py",
   "mimetype": "text/x-python",
   "name": "python",
   "nbconvert_exporter": "python",
   "pygments_lexer": "ipython3",
   "version": "3.9.13"
  }
 },
 "nbformat": 4,
 "nbformat_minor": 5
}
